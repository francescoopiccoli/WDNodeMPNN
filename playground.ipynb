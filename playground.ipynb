{
 "cells": [
  {
   "cell_type": "code",
   "execution_count": 11,
   "metadata": {},
   "outputs": [
    {
     "name": "stdout",
     "output_type": "stream",
     "text": [
      "Original edge_index:\n",
      " tensor([[0, 1, 1, 2, 3],\n",
      "        [1, 2, 3, 0, 1]])\n",
      "Original edge_index[1]:\n",
      " tensor([1, 2, 3, 0, 1])\n",
      "Reshaped edge_index_reshaped:\n",
      " tensor([[1],\n",
      "        [2],\n",
      "        [3],\n",
      "        [0],\n",
      "        [1]])\n",
      "Original edge_attr:\n",
      " tensor([[ 1.,  2.,  3.],\n",
      "        [ 4.,  5.,  6.],\n",
      "        [ 7.,  8.,  9.],\n",
      "        [10., 11., 12.],\n",
      "        [13., 14., 15.]])\n",
      "Original edge_weights:\n",
      " tensor([0.1000, 0.2000, 0.3000, 0.4000, 0.5000])\n",
      "multiplied edge_weight * edge_attr:\n",
      " tensor([[0.1000, 0.2000, 0.3000],\n",
      "        [0.8000, 1.0000, 1.2000],\n",
      "        [2.1000, 2.4000, 2.7000],\n",
      "        [4.0000, 4.4000, 4.8000],\n",
      "        [6.5000, 7.0000, 7.5000]])\n",
      "Incoming_edge_weighted_sum after scatter_add:\n",
      "tensor([[4.0000, 4.4000, 4.8000],\n",
      "        [6.6000, 7.2000, 7.8000],\n",
      "        [0.8000, 1.0000, 1.2000],\n",
      "        [2.1000, 2.4000, 2.7000]])\n"
     ]
    }
   ],
   "source": [
    "import torch\n",
    "\n",
    "# Create a toy graph with 4 nodes and 5 edges\n",
    "edge_index = torch.tensor([[0, 1, 1, 2, 3],\n",
    "                           [1, 2, 3, 0, 1]], dtype=torch.long)\n",
    "edge_weight = torch.tensor([0.1, 0.2, 0.3, 0.4, 0.5], dtype=torch.float)\n",
    "edge_attr = torch.tensor([[1, 2, 3],\n",
    "                          [4, 5, 6],\n",
    "                          [7, 8, 9],\n",
    "                          [10, 11, 12],\n",
    "                          [13, 14, 15]], dtype=torch.float)\n",
    "\n",
    "# Initialize incoming_edge_weighted_sum with zeros\n",
    "num_nodes = edge_index.max().item() + 1\n",
    "incoming_edge_weighted_sum = torch.zeros(num_nodes, 3)\n",
    "\n",
    "# Reshape edge_index[1] to have an extra dimension\n",
    "edge_index_reshaped = edge_index[1].view(-1, 1)\n",
    "\n",
    "# Perform scatter_add operation\n",
    "incoming_edge_weighted_sum.scatter_add_(0, edge_index_reshaped.expand_as(edge_attr), edge_weight.view(-1, 1) * edge_attr)\n",
    "\n",
    "# Print the results\n",
    "print(\"Original edge_index:\\n\", edge_index)\n",
    "print(\"Original edge_index[1]:\\n\", edge_index[1])\n",
    "print(\"Reshaped edge_index_reshaped:\\n\", edge_index_reshaped)\n",
    "print(\"Original edge_attr:\\n\", edge_attr)\n",
    "print(\"Original edge_weights:\\n\", edge_weight)\n",
    "print('multiplied edge_weight * edge_attr:\\n', edge_weight.view(-1, 1) * edge_attr)\n",
    "\n",
    "print(\"Incoming_edge_weighted_sum after scatter_add:\")\n",
    "print(incoming_edge_weighted_sum)\n"
   ]
  }
 ],
 "metadata": {
  "kernelspec": {
   "display_name": "g2senv",
   "language": "python",
   "name": "python3"
  },
  "language_info": {
   "codemirror_mode": {
    "name": "ipython",
    "version": 3
   },
   "file_extension": ".py",
   "mimetype": "text/x-python",
   "name": "python",
   "nbconvert_exporter": "python",
   "pygments_lexer": "ipython3",
   "version": "3.10.13"
  }
 },
 "nbformat": 4,
 "nbformat_minor": 2
}
